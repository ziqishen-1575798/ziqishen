{
 "cells": [
  {
   "cell_type": "code",
   "execution_count": 50,
   "metadata": {},
   "outputs": [],
   "source": [
    "import numpy as np\n",
    "import matplotlib\n",
    "import matplotlib.pyplot as plt\n",
    "import scipy\n",
    "from scipy import stats\n",
    "from scipy.stats import poisson\n",
    "import pandas as pd"
   ]
  },
  {
   "cell_type": "markdown",
   "metadata": {},
   "source": [
    "# Problem 1"
   ]
  },
  {
   "cell_type": "code",
   "execution_count": 51,
   "metadata": {},
   "outputs": [
    {
     "name": "stdout",
     "output_type": "stream",
     "text": [
      "Thresholds are:  12.8 ,  11.2\n"
     ]
    },
    {
     "data": {
      "text/html": [
       "<div>\n",
       "<style scoped>\n",
       "    .dataframe tbody tr th:only-of-type {\n",
       "        vertical-align: middle;\n",
       "    }\n",
       "\n",
       "    .dataframe tbody tr th {\n",
       "        vertical-align: top;\n",
       "    }\n",
       "\n",
       "    .dataframe thead th {\n",
       "        text-align: right;\n",
       "    }\n",
       "</style>\n",
       "<table border=\"1\" class=\"dataframe\">\n",
       "  <thead>\n",
       "    <tr style=\"text-align: right;\">\n",
       "      <th></th>\n",
       "      <th>True</th>\n",
       "      <th>False</th>\n",
       "    </tr>\n",
       "  </thead>\n",
       "  <tbody>\n",
       "    <tr>\n",
       "      <th>Positive</th>\n",
       "      <td>0.95475</td>\n",
       "      <td>0.125</td>\n",
       "    </tr>\n",
       "    <tr>\n",
       "      <th>Negative</th>\n",
       "      <td>0.04525</td>\n",
       "      <td>0.875</td>\n",
       "    </tr>\n",
       "  </tbody>\n",
       "</table>\n",
       "</div>"
      ],
      "text/plain": [
       "             True  False\n",
       "Positive  0.95475  0.125\n",
       "Negative  0.04525  0.875"
      ]
     },
     "execution_count": 51,
     "metadata": {},
     "output_type": "execute_result"
    },
    {
     "data": {
      "image/png": "[encoded data removed]",
      "text/plain": [
       "<Figure size 432x288 with 1 Axes>"
      ]
     },
     "metadata": {
      "needs_background": "light"
     },
     "output_type": "display_data"
    }
   ],
   "source": [
    "# Part A\n",
    "# Part 1\n",
    "bad_pt = np.asarray([10., 10.3, 2.1, 0., 0., 15.6, 22.3, 12.7])\n",
    "data = stats.norm.rvs(12, 0.4, 100000)\n",
    "final_data = np.concatenate((data, bad_pt))\n",
    "fig, ax = plt.subplots(1,1)\n",
    "ax.hist(final_data, 100, density = 'true', label = 'Data' )\n",
    "ax.plot(bad_pt, np.linspace(0,1,8) , '.', label = 'Bad Data Points')\n",
    "plt.title(\"Temperature Distribution\")\n",
    "plt.ylabel('Probability')\n",
    "plt.xlabel('Temperature/ K')\n",
    "plt.legend()\n",
    "\n",
    "#Part 2\n",
    "# Statistical Question: What would the temperature threshold value be in order to indicate a bad/good data, if I chose a data that's 2 sigma away from my mean. \n",
    "# Assuming I have a normal distribution with mean centered at 12K and standard deviation is 0.4.\n",
    "# I choose this question because we need to find the threshold in order to determine if a data is good or bad\n",
    "\n",
    "# Part 3\n",
    "# Math Question: In order to find the threshold, we need to take the ingtegral of the standard normal distribution from negative infinity to -2 sigma and from 2 sigma to positive infinity to get the probability.\n",
    "# And take the integral of the normal distribution from negative infinity to a threshold and from positive infinity to a threshold which gives the same probability as above.\n",
    "\n",
    "#Part 4\n",
    "sigma = 2\n",
    "t1 = stats.norm.ppf(stats.norm.cdf(sigma), 12,  0.4)\n",
    "t2 = 12 - (t1 - 12)\n",
    "print('Thresholds are: ', t1, ', ', t2)\n",
    "delete = len(final_data[final_data > t1]) + len(final_data[final_data < t2])\n",
    "keep = len(final_data) - delete\n",
    "delete2 = len(bad_pt[bad_pt > t1]) + len(bad_pt[bad_pt < t2])\n",
    "keep2 = len(bad_pt) - delete2\n",
    "yp = (keep-keep2)/len(data)\n",
    "nn = delete2/len(bad_pt)\n",
    "yn = 1 - yp\n",
    "np = 1 - nn\n",
    "\n",
    "test = {'True':[yp, yn], 'False':[np, nn]}\n",
    "truthtable = pd.DataFrame(test, index = ['Positive', 'Negative'])\n",
    "truthtable"
   ]
  },
  {
   "cell_type": "code",
   "execution_count": 52,
   "metadata": {},
   "outputs": [],
   "source": [
    "# Part B\n",
    "# The number of omissions depends on the value of threshold, because it depends on how big the sigma value we want to choose in order for us to keep the good data and throw away the bad data.\n",
    "# For example, if I chose the sigma to be 4, there will be more bad data that we would keep instead of the good data.\n",
    "# It's a predictable quantity here, becasue we have a really big sample size which has a lot more good data than the bad data, and since there are so many good data so it follows the normal distribution. "
   ]
  },
  {
   "cell_type": "code",
   "execution_count": 53,
   "metadata": {},
   "outputs": [],
   "source": [
    "# Part C\n",
    "# Yes, there are bad data coming in if we choose a small sigma value which results a wider ranged threshold and will let more bad data in.\n",
    "# However, it could be avoided by picking a bigger sigma value and have a samller ranged threshold, so it would stop most of the bad data getting in,\n",
    "# but it would also mean that we would throw some part of good data away instead."
   ]
  },
  {
   "cell_type": "code",
   "execution_count": null,
   "metadata": {},
   "outputs": [],
   "source": []
  },
  {
   "cell_type": "markdown",
   "metadata": {},
   "source": [
    "# Problem 2"
   ]
  },
  {
   "cell_type": "code",
   "execution_count": 54,
   "metadata": {},
   "outputs": [],
   "source": [
    "# Question in words: Assume our background is a standard normal distribution with the standard deviation of 1 arcsecond, and true movement will likely appear when the value is greater. \n",
    "# So what is the threshold distance would be for us to tell if it's a true movement and the it's 5 sigma away from the mean.\n",
    "\n",
    "# Question in math: We first find the probabibility by integrating the standard normal distribution. Then what is the value that would give us the same probability by integrating the normal distribution from positive infinity to a threshold distance value."
   ]
  },
  {
   "cell_type": "markdown",
   "metadata": {},
   "source": [
    "# Problem 3"
   ]
  },
  {
   "cell_type": "code",
   "execution_count": 60,
   "metadata": {},
   "outputs": [
    {
     "name": "stdout",
     "output_type": "stream",
     "text": [
      "sigma =  -4.750747965777188\n"
     ]
    }
   ],
   "source": [
    "# The distribution is a Poisson distribution with the mean = 1 * 8 * 60 * 15 = 7200 counts. \n",
    "# Part 1\n",
    "# Question in words: Assume our background is a poisson distribution with mean counts of 7200, what is the probability of observing a counts of 6800 and below.\n",
    "\n",
    "# Part 2\n",
    "# Question in math: We first find the probability by integrating the poisson distribution from negative infinity to 6800. Then take the integral of the standard normal distribution from the negative infinity to a sigma value which would give us the same probability, and what is the sigma value would be.\n",
    "\n",
    "# Part 3\n",
    "mean = 7200\n",
    "ptest = poisson.cdf(6800, mean)\n",
    "sig = stats.norm.ppf(ptest)\n",
    "print('sigma = ', sig)\n",
    "# The moon shadow detection has a signficance of -4.751\n"
   ]
  },
  {
   "cell_type": "code",
   "execution_count": null,
   "metadata": {},
   "outputs": [],
   "source": []
  }
 ],
 "metadata": {
  "kernelspec": {
   "display_name": "Python 3",
   "language": "python",
   "name": "python3"
  },
  "language_info": {
   "codemirror_mode": {
    "name": "ipython",
    "version": 3
   },
   "file_extension": ".py",
   "mimetype": "text/x-python",
   "name": "python",
   "nbconvert_exporter": "python",
   "pygments_lexer": "ipython3",
   "version": "3.7.3"
  }
 },
 "nbformat": 4,
 "nbformat_minor": 2
}
